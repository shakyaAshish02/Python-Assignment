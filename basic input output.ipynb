{
 "cells": [
  {
   "cell_type": "markdown",
   "id": "b8e318cd",
   "metadata": {},
   "source": [
    "## Program to print Introduction"
   ]
  },
  {
   "cell_type": "code",
   "execution_count": 13,
   "id": "a4526d39",
   "metadata": {},
   "outputs": [],
   "source": [
    "Introduction = [\"Hi there I'm shalinee kumari.\",\n",
    "\"I'm from bhilai chattishgarh.\",\n",
    "\"I'm married and currently i am living in chandigarh\",\n",
    "\"i have completed my gradution from SSCET Bhilai with CSE branch in 2016\",\n",
    "\"and then i thought of giving 2 years to prepare for government examination\",\n",
    "\"but extended for more 2 years as i was too close to clearing that examination\",\n",
    "\"I cleared Bank PO mains 2 times and missed the opportunity just by 1.5 marks.\",\n",
    "\n",
    "\"later i tried to switch my career in 2021 and joined a MSME firm i.e. jai mata di plastics\",\n",
    "\"as an procurement analyst based out of my home town and soon after lockdown\",\n",
    "\"I thought of upgrading my skills and choose the data analyst career as my preffered option\",\n",
    "\"as it was the area of my interest as well as i m quite good with maths and analytics.\",\n",
    "\"Apart from professional life i would like to engage my self in-\",\n",
    "\"Playing badminton\",\n",
    "\"Playing chess\" ,\n",
    "\"Watching series\" ,\n",
    "\"Writing poetries\" ,\n",
    "\"Expolre different places.\"]\n"
   ]
  },
  {
   "cell_type": "code",
   "execution_count": 14,
   "id": "fc11c09d",
   "metadata": {},
   "outputs": [
    {
     "name": "stdout",
     "output_type": "stream",
     "text": [
      "Hi there I'm shalinee kumari.\n",
      "I'm from bhilai chattishgarh.\n",
      "I'm married and currently i am living in chandigarh\n",
      "i have completed my gradution from SSCET Bhilai with CSE branch in 2016\n",
      "and then i thought of giving 2 years to prepare for government examination\n",
      "but extended for more 2 years as i was too close to clearing that examination\n",
      "I cleared Bank PO mains 2 times and missed the opportunity just by 1.5 marks.\n",
      "later i tried to switch my career in 2021 and joined a MSME firm i.e. jai mata di plastics\n",
      "as an procurement analyst based out of my home town and soon after lockdown\n",
      "I thought of upgrading my skills and choose the data analyst career as my preffered option\n",
      "as it was the area of my interest as well as i m quite good with maths and analytics.\n",
      "Apart from professional life i would like to engage my self in-\n",
      "Playing badminton\n",
      "Playing chess\n",
      "Watching series\n",
      "Writing poetries\n",
      "Expolre different places.\n"
     ]
    }
   ],
   "source": [
    "for i in range(len(Introduction)):\n",
    "    print(Introduction[i])"
   ]
  },
  {
   "cell_type": "markdown",
   "id": "4f164ced",
   "metadata": {},
   "source": [
    "## Addition"
   ]
  },
  {
   "cell_type": "code",
   "execution_count": 58,
   "id": "39b686bc",
   "metadata": {},
   "outputs": [
    {
     "name": "stdout",
     "output_type": "stream",
     "text": [
      "enter number10\n",
      "enter number20\n",
      "enter number30\n",
      "addition of threee number  60\n"
     ]
    }
   ],
   "source": [
    "x=int(input('enter number'))\n",
    "y=int(input('enter number'))\n",
    "z=int(input('enter number'))\n",
    "add=x+y+z\n",
    "print('addition of threee number ', add)"
   ]
  },
  {
   "cell_type": "markdown",
   "id": "56820f1c",
   "metadata": {},
   "source": [
    "## Substraction"
   ]
  },
  {
   "cell_type": "code",
   "execution_count": 59,
   "id": "edb14fa9",
   "metadata": {},
   "outputs": [
    {
     "name": "stdout",
     "output_type": "stream",
     "text": [
      "enter number 40\n",
      "enter number 20\n",
      "substraction of two number  20\n"
     ]
    }
   ],
   "source": [
    "x=int(input('enter number '))\n",
    "y=int(input('enter number '))\n",
    "sub=x-y\n",
    "print('substraction of two number ', sub)"
   ]
  },
  {
   "cell_type": "markdown",
   "id": "50ab3075",
   "metadata": {},
   "source": [
    "## Multiplication"
   ]
  },
  {
   "cell_type": "code",
   "execution_count": 60,
   "id": "58218973",
   "metadata": {},
   "outputs": [
    {
     "name": "stdout",
     "output_type": "stream",
     "text": [
      "enter number 2\n",
      "enter number 80\n",
      "Multiplication of number  160\n"
     ]
    }
   ],
   "source": [
    "x=int(input('enter number '))\n",
    "y=int(input('enter number '))\n",
    "MUL=x*y\n",
    "print('Multiplication of number ',MUL)"
   ]
  },
  {
   "cell_type": "markdown",
   "id": "382839af",
   "metadata": {},
   "source": [
    "## Division"
   ]
  },
  {
   "cell_type": "code",
   "execution_count": 61,
   "id": "329199cc",
   "metadata": {},
   "outputs": [
    {
     "name": "stdout",
     "output_type": "stream",
     "text": [
      "enter number 50\n",
      "enter number 4\n",
      "Division of number  12.5\n"
     ]
    }
   ],
   "source": [
    "x=int(input('enter number '))\n",
    "y=int(input('enter number '))\n",
    "div1=x/y\n",
    "print('Division of number ',div1)"
   ]
  },
  {
   "cell_type": "code",
   "execution_count": 62,
   "id": "15d081b1",
   "metadata": {},
   "outputs": [
    {
     "name": "stdout",
     "output_type": "stream",
     "text": [
      "enter number 50\n",
      "enter number 6\n",
      "Division of number  8\n"
     ]
    }
   ],
   "source": [
    "x=int(input('enter number '))\n",
    "y=int(input('enter number '))\n",
    "div=x//y\n",
    "print('Division of number ',div)"
   ]
  },
  {
   "cell_type": "markdown",
   "id": "4d57a559",
   "metadata": {},
   "source": [
    "## Modulus"
   ]
  },
  {
   "cell_type": "code",
   "execution_count": 63,
   "id": "420822ec",
   "metadata": {},
   "outputs": [
    {
     "name": "stdout",
     "output_type": "stream",
     "text": [
      "enter number 50\n",
      "enter number 7\n",
      "reminder of number  1\n"
     ]
    }
   ],
   "source": [
    "x=int(input('enter number '))\n",
    "y=int(input('enter number '))\n",
    "rem=x%y\n",
    "print('reminder of number ',rem)\n"
   ]
  },
  {
   "cell_type": "markdown",
   "id": "146ece8a",
   "metadata": {},
   "source": [
    "## Exponent"
   ]
  },
  {
   "cell_type": "code",
   "execution_count": 64,
   "id": "cf205440",
   "metadata": {},
   "outputs": [
    {
     "name": "stdout",
     "output_type": "stream",
     "text": [
      "enter number 4\n",
      "enter exponent value 4\n",
      "Exponent of number  256\n"
     ]
    }
   ],
   "source": [
    "x=int(input('enter number '))\n",
    "y=int(input('enter exponent value '))\n",
    "Exp=x**y\n",
    "print('Exponent of number ',Exp)"
   ]
  },
  {
   "cell_type": "markdown",
   "id": "c80afa68",
   "metadata": {},
   "source": [
    "## Average\n"
   ]
  },
  {
   "cell_type": "code",
   "execution_count": 65,
   "id": "8d79a40c",
   "metadata": {},
   "outputs": [
    {
     "name": "stdout",
     "output_type": "stream",
     "text": [
      "enter 1st number 5\n",
      "enter 2nd number 10\n",
      "enter 3rd number 7\n",
      "enter 4th number 3\n",
      "enter 5th number 6\n",
      "average of 5 number is  6.2\n"
     ]
    }
   ],
   "source": [
    "a=int(input(\"enter 1st number \"))\n",
    "b=int(input(\"enter 2nd number \"))\n",
    "c=int(input(\"enter 3rd number \"))\n",
    "d=int(input(\"enter 4th number \"))\n",
    "e=int(input(\"enter 5th number \"))\n",
    "avg=(a+b+c+d+e)/5\n",
    "print(\"average of 5 number is \",avg)\n"
   ]
  },
  {
   "cell_type": "markdown",
   "id": "a7107f62",
   "metadata": {},
   "source": [
    "## Simple Intrest"
   ]
  },
  {
   "cell_type": "code",
   "execution_count": 66,
   "id": "fc1636ae",
   "metadata": {},
   "outputs": [
    {
     "name": "stdout",
     "output_type": "stream",
     "text": [
      "enter principal 10\n",
      "enter time 5\n",
      "enter rate 10\n",
      "Simple Interest is 5.0\n"
     ]
    }
   ],
   "source": [
    "p=int(input('enter principal '))\n",
    "t=int(input('enter time '))\n",
    "r=int(input('enter rate '))\n",
    "SI=(p*t*r)/100\n",
    "print('Simple Interest is',SI)\n"
   ]
  },
  {
   "cell_type": "markdown",
   "id": "d648b109",
   "metadata": {},
   "source": [
    "## Swap"
   ]
  },
  {
   "cell_type": "code",
   "execution_count": 67,
   "id": "e21e5c60",
   "metadata": {},
   "outputs": [
    {
     "name": "stdout",
     "output_type": "stream",
     "text": [
      "enter 1st number 10\n",
      "enter 2nd number 5\n",
      "swapping  5 10\n"
     ]
    }
   ],
   "source": [
    "a=int(input(\"enter 1st number \"))\n",
    "b=int(input(\"enter 2nd number \"))\n",
    "c=a\n",
    "a=b\n",
    "b=c\n",
    "print('swapping ', a,b)"
   ]
  },
  {
   "cell_type": "markdown",
   "id": "215ce628",
   "metadata": {},
   "source": [
    "## swapping without 3rd variable"
   ]
  },
  {
   "cell_type": "code",
   "execution_count": 68,
   "id": "d2fcd304",
   "metadata": {},
   "outputs": [
    {
     "name": "stdout",
     "output_type": "stream",
     "text": [
      "enter 1st number 5\n",
      "enter 2nd number 10\n",
      "swapping  10 5\n"
     ]
    }
   ],
   "source": [
    "x=int(input(\"enter 1st number \"))\n",
    "y=int(input(\"enter 2nd number \"))\n",
    "x=x+y\n",
    "y=x-y\n",
    "x=x-y\n",
    "print('swapping ', x,y)\n"
   ]
  },
  {
   "cell_type": "markdown",
   "id": "3e39beb2",
   "metadata": {},
   "source": [
    "## Discriminant of Quadratic Equation"
   ]
  },
  {
   "cell_type": "code",
   "execution_count": 72,
   "id": "93ab8112",
   "metadata": {},
   "outputs": [
    {
     "name": "stdout",
     "output_type": "stream",
     "text": [
      "enter 1st number 1\n",
      "enter 2nd number -3\n",
      "enter 2nd number 4\n",
      "-7\n"
     ]
    }
   ],
   "source": [
    "a=int(input(\"enter 1st number \"))\n",
    "b=int(input(\"enter 2nd number \"))\n",
    "c=int(input(\"enter 2nd number \"))\n",
    "\n",
    "Discriminant= (b**2)-(4*a*c)\n",
    "print(Discriminant)"
   ]
  },
  {
   "cell_type": "markdown",
   "id": "d54656c3",
   "metadata": {},
   "source": [
    "## Area of Rectangle"
   ]
  },
  {
   "cell_type": "code",
   "execution_count": 1,
   "id": "6a819783",
   "metadata": {},
   "outputs": [
    {
     "name": "stdout",
     "output_type": "stream",
     "text": [
      "enter 1st number 10\n",
      "enter 2nd number 2\n",
      "Area of Rectangle  20\n"
     ]
    }
   ],
   "source": [
    "x=int(input(\"enter 1st number \"))\n",
    "y=int(input(\"enter 2nd number \"))\n",
    "z=x*y\n",
    "print(\"Area of Rectangle \",z)"
   ]
  },
  {
   "cell_type": "markdown",
   "id": "fffa5b9f",
   "metadata": {},
   "source": [
    "## Area of Square"
   ]
  },
  {
   "cell_type": "code",
   "execution_count": 2,
   "id": "eb0201d6",
   "metadata": {},
   "outputs": [
    {
     "name": "stdout",
     "output_type": "stream",
     "text": [
      "enter number 5\n",
      "Area of Square  25\n"
     ]
    }
   ],
   "source": [
    "x=int(input(\"enter number \"))\n",
    "z=x*x\n",
    "print(\"Area of Square \",z)"
   ]
  },
  {
   "cell_type": "markdown",
   "id": "6993f2b9",
   "metadata": {},
   "source": [
    "## Area of Triangle"
   ]
  },
  {
   "cell_type": "code",
   "execution_count": 3,
   "id": "69a1918f",
   "metadata": {},
   "outputs": [
    {
     "name": "stdout",
     "output_type": "stream",
     "text": [
      "enter Base 5\n",
      "enter Height 6\n",
      "Area of Triangle  15.0\n"
     ]
    }
   ],
   "source": [
    "x=int(input(\"Enter Base \"))\n",
    "y=int(input(\"Enter Height \"))\n",
    "z=1/2*x*y\n",
    "print(\"Area of Triangle \",z)"
   ]
  },
  {
   "cell_type": "markdown",
   "id": "ee79a392",
   "metadata": {},
   "source": [
    "## Area of Circle"
   ]
  },
  {
   "cell_type": "code",
   "execution_count": 4,
   "id": "f158e7c7",
   "metadata": {},
   "outputs": [
    {
     "name": "stdout",
     "output_type": "stream",
     "text": [
      "Enter Radius 5\n",
      "Area of Circle  78.57142857142857\n"
     ]
    }
   ],
   "source": [
    "X=int(input(\"Enter Radius \"))\n",
    "A=22/7*X*X\n",
    "print(\"Area of Circle \",A)"
   ]
  },
  {
   "cell_type": "markdown",
   "id": "d93e34b4",
   "metadata": {},
   "source": [
    "## Power of number"
   ]
  },
  {
   "cell_type": "code",
   "execution_count": 6,
   "id": "50a444e0",
   "metadata": {},
   "outputs": [
    {
     "name": "stdout",
     "output_type": "stream",
     "text": [
      "Enter number 6\n",
      "Power of number  36\n"
     ]
    }
   ],
   "source": [
    "X=int(input(\"Enter number \"))\n",
    "P=X**2\n",
    "print(\"Power of number \",P)"
   ]
  },
  {
   "cell_type": "code",
   "execution_count": 9,
   "id": "32ebd509",
   "metadata": {},
   "outputs": [
    {
     "name": "stdout",
     "output_type": "stream",
     "text": [
      "Enter number 3\n",
      "Power of number  81\n"
     ]
    }
   ],
   "source": [
    "X=int(input(\"Enter number \"))\n",
    "P=X**4\n",
    "print(\"Power of number \",P)"
   ]
  },
  {
   "cell_type": "markdown",
   "id": "9661349b",
   "metadata": {},
   "source": [
    "## Python version"
   ]
  },
  {
   "cell_type": "code",
   "execution_count": 11,
   "id": "e7e90ee9",
   "metadata": {},
   "outputs": [
    {
     "name": "stdout",
     "output_type": "stream",
     "text": [
      "3.9.13\n"
     ]
    }
   ],
   "source": [
    "from platform import python_version\n",
    "print(python_version())"
   ]
  },
  {
   "cell_type": "markdown",
   "id": "9bb0c3ec",
   "metadata": {},
   "source": [
    "## Calculate Net Salary\n"
   ]
  },
  {
   "cell_type": "code",
   "execution_count": 12,
   "id": "8aef5219",
   "metadata": {},
   "outputs": [
    {
     "name": "stdout",
     "output_type": "stream",
     "text": [
      "enter basic_salary 50000\n",
      "Net_salary is  57500.0\n"
     ]
    }
   ],
   "source": [
    "basic=int(input(\"enter basic_salary \"))\n",
    "da= basic*.05\n",
    "hr= basic*.07\n",
    "pf= basic*.03\n",
    "Net_salary= basic+da+hr+pf\n",
    "print(\"Net_salary is \",Net_salary)"
   ]
  },
  {
   "cell_type": "code",
   "execution_count": null,
   "id": "07bd6266",
   "metadata": {},
   "outputs": [],
   "source": []
  }
 ],
 "metadata": {
  "kernelspec": {
   "display_name": "Python 3 (ipykernel)",
   "language": "python",
   "name": "python3"
  },
  "language_info": {
   "codemirror_mode": {
    "name": "ipython",
    "version": 3
   },
   "file_extension": ".py",
   "mimetype": "text/x-python",
   "name": "python",
   "nbconvert_exporter": "python",
   "pygments_lexer": "ipython3",
   "version": "3.9.13"
  }
 },
 "nbformat": 4,
 "nbformat_minor": 5
}
