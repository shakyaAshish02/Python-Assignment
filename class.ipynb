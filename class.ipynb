{
 "cells": [
  {
   "cell_type": "markdown",
   "id": "a1feddf1",
   "metadata": {},
   "source": [
    "## Create a class Person with attributes such as name, age and gender. Define methods to get and set these attributes"
   ]
  },
  {
   "cell_type": "code",
   "execution_count": null,
   "id": "943cc141",
   "metadata": {},
   "outputs": [],
   "source": [
    "class Person:\n",
    "    def __init__(self,name,age,gender):\n",
    "        self.n=name\n",
    "        self.a=age\n",
    "        self.g=gender\n",
    "    \n",
    "    def display(self):\n",
    "        print(self.n,self.a,self.g)\n",
    "        \n",
    "    def getage(self):\n",
    "        print(self.a)\n",
    "        \n",
    "    def setage(self,age):\n",
    "        self.a=age\n",
    "    \n",
    "p=Person(\"shiv\",77,\"male\")\n",
    "p.display()\n",
    "\n",
    "p.setage(15)  ##here age will set as 15\n",
    "p.getage()\n",
    "p.display()"
   ]
  },
  {
   "cell_type": "markdown",
   "id": "3bfa1897",
   "metadata": {},
   "source": [
    "## Create a class called Student that inherits a Person. Add attributes such as id,major and GPA. Define methods to get and set these attributes"
   ]
  },
  {
   "cell_type": "code",
   "execution_count": null,
   "id": "dc046cb4",
   "metadata": {},
   "outputs": [],
   "source": [
    "class Person:\n",
    "    def __init__(self,name):\n",
    "        self.name=name\n",
    "      \n",
    "        \n",
    "class Student(Person):\n",
    "    def __init__(self,name,id,major,GPA):\n",
    "        Person.__init__(self,name)\n",
    "        self.id=id\n",
    "        self.major=major\n",
    "        self.gpa=GPA\n",
    "    def display(self):\n",
    "        \n",
    "        print(\"Name: \", self.name, \"\\nID: \",self.id,\"\\nMajor: \",self.major, \"\\nGPA: \",self.gpa)\n",
    "    \n",
    "    def get_id(self):\n",
    "        print(self.id)\n",
    "    \n",
    "    def set_id(self, new_id):\n",
    "        self.id = new_id\n",
    "        \n",
    "    def get_major(self):\n",
    "        print(self.major)\n",
    "    \n",
    "    def set_major(self, new_major):\n",
    "        self.major = new_major\n",
    "        \n",
    "    def get_gpa(self):\n",
    "         print(self.gpa)\n",
    "    \n",
    "    def set_gpa(self, new_gpa):\n",
    "        self.gpa = new_gpa\n",
    "\n",
    "    \n",
    "s1 = Student(\"John\", \"1234\", \"Computer Science\", 7.8)\n",
    "s1.display()\n",
    "\n",
    "\n",
    "s1.set_id(\"5678\")\n",
    "s1.get_id()\n",
    "\n",
    "s1.set_major(\"IT\")\n",
    "s1.get_major()\n",
    "\n",
    "s1.set_gpa(9.0)\n",
    "s1.get_gpa() \n",
    "\n",
    "print(\"Here new values are: \")\n",
    "s1.display()\n",
    "\n",
    "\n"
   ]
  },
  {
   "cell_type": "markdown",
   "id": "7d962040",
   "metadata": {},
   "source": [
    "##  Create a class called Rectange with attributes such as width and height . Define methods to calculate area and parameter of the ractangle"
   ]
  },
  {
   "cell_type": "code",
   "execution_count": null,
   "id": "bacdaa22",
   "metadata": {},
   "outputs": [],
   "source": [
    "class Ractangle:\n",
    "    def __init__(self,width,height):\n",
    "        self.w=width\n",
    "        self.h=height\n",
    "    def area(self):\n",
    "        print(\"Area of ractangle :\",self.w*self.h)\n",
    "    def parameter(self):\n",
    "        print(\"Parameter of ractangle :\",(2*(self.w+self.h)))\n",
    "        \n",
    "R=Ractangle(50,60)\n",
    "R.area()\n",
    "R.parameter()\n",
    "\n",
    "    \n",
    "    \n",
    "    "
   ]
  },
  {
   "cell_type": "markdown",
   "id": "ddb1f7f5",
   "metadata": {},
   "source": [
    "## Create a class called Circle with attributes such as radius. Define methods to calculate the area and circumference of the circle."
   ]
  },
  {
   "cell_type": "code",
   "execution_count": null,
   "id": "f8f5129f",
   "metadata": {},
   "outputs": [],
   "source": [
    "class Circle:\n",
    "    def __init__(self,radius):\n",
    "        self.r=radius\n",
    "    def area(self):\n",
    "        print(\"Area of circle is :\",round(3.14*self.r*self.r))\n",
    "    def circumference(self):\n",
    "        print(\"Circumference of circle is :\",round(2*3.14*self.r))\n",
    "        \n",
    "c=Circle(5)\n",
    "c.area()\n",
    "c.circumference()\n"
   ]
  },
  {
   "cell_type": "markdown",
   "id": "dd25e19c",
   "metadata": {},
   "source": [
    "## create a class called BankAccount with attributes such as balance and interest_rate. Define methods to deposit,withdraw and calculate interest on the balance."
   ]
  },
  {
   "cell_type": "code",
   "execution_count": 10,
   "id": "09f47da6",
   "metadata": {},
   "outputs": [
    {
     "name": "stdout",
     "output_type": "stream",
     "text": [
      "Enter amount to deposit :500\n",
      "Deposit successful,Total balance is  5500\n",
      "Enter amount to withdraw :500\n",
      "withdraw successful,Total balance is  4500\n",
      "Enter year :1\n",
      "Interest for given year is : 5250.0\n"
     ]
    }
   ],
   "source": [
    "class BankAccount:\n",
    "    def __init__(self,balance,interest_rate):\n",
    "        self.b=balance\n",
    "        self.ir=interest_rate\n",
    "    def deposit(self):\n",
    "        self.a=int(input(\"Enter amount to deposit :\"))\n",
    "        self.a=self.a+self.b\n",
    "        print(\"Deposit successful,Total balance is \",self.a)\n",
    "    def withdraw(self):\n",
    "        self.a=int(input(\"Enter amount to withdraw :\"))\n",
    "        self.a=self.b-self.a\n",
    "        print(\"withdraw successful,Total balance is \",self.a)\n",
    "        \n",
    "    def interest(self):\n",
    "        self.year=int(input(\"Enter year :\"))\n",
    "        interest=(self.b*self.ir*self.year)*.01\n",
    "        self.b=self.b+interest\n",
    "        print(\"Interest for given year is :\",self.b)\n",
    "\n",
    "        \n",
    "B=BankAccount(5000,5)\n",
    "B.deposit()\n",
    "B.withdraw()\n",
    "B.interest()\n",
    "        "
   ]
  },
  {
   "cell_type": "code",
   "execution_count": null,
   "id": "d96d5ece",
   "metadata": {},
   "outputs": [],
   "source": []
  }
 ],
 "metadata": {
  "kernelspec": {
   "display_name": "Python 3 (ipykernel)",
   "language": "python",
   "name": "python3"
  },
  "language_info": {
   "codemirror_mode": {
    "name": "ipython",
    "version": 3
   },
   "file_extension": ".py",
   "mimetype": "text/x-python",
   "name": "python",
   "nbconvert_exporter": "python",
   "pygments_lexer": "ipython3",
   "version": "3.9.13"
  }
 },
 "nbformat": 4,
 "nbformat_minor": 5
}
